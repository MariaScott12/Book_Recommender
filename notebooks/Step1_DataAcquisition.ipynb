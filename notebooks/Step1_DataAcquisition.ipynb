{
 "cells": [
  {
   "cell_type": "markdown",
   "metadata": {},
   "source": [
    "## Data Acquisition "
   ]
  },
  {
   "cell_type": "code",
   "execution_count": 1,
   "metadata": {},
   "outputs": [
    {
     "name": "stdout",
     "output_type": "stream",
     "text": [
      "Requirement already satisfied: Wikipedia-API in /opt/miniconda3/envs/metis/lib/python3.7/site-packages (0.5.4)\r\n",
      "Requirement already satisfied: requests in /opt/miniconda3/envs/metis/lib/python3.7/site-packages (from Wikipedia-API) (2.22.0)\r\n",
      "Requirement already satisfied: chardet<3.1.0,>=3.0.2 in /opt/miniconda3/envs/metis/lib/python3.7/site-packages (from requests->Wikipedia-API) (3.0.4)\r\n",
      "Requirement already satisfied: idna<2.9,>=2.5 in /opt/miniconda3/envs/metis/lib/python3.7/site-packages (from requests->Wikipedia-API) (2.6)\r\n",
      "Requirement already satisfied: certifi>=2017.4.17 in /opt/miniconda3/envs/metis/lib/python3.7/site-packages (from requests->Wikipedia-API) (2019.11.28)\r\n",
      "Requirement already satisfied: urllib3!=1.25.0,!=1.25.1,<1.26,>=1.21.1 in /opt/miniconda3/envs/metis/lib/python3.7/site-packages (from requests->Wikipedia-API) (1.24.1)\r\n"
     ]
    }
   ],
   "source": [
    "!pip install Wikipedia-API"
   ]
  },
  {
   "cell_type": "markdown",
   "metadata": {},
   "source": [
    "**Before executing this notebook:**\n",
    "- [x] Prior to running this notebook, use this [tool](https://petscan.wmflabs.org/) to export a csv file. Choose Wikipedia titles under the **Category: Fantasy novel series**\n",
    "- [x] Add `.csv` to the end of the downloaded file, so that it can be imported as a csv by pandas\n",
    "- [x] Pip install wikipedia-api https://pypi.org/project/Wikipedia-API/\n",
    "\n",
    "**In this notebook**:\n",
    "- [x] Open the csv file and use the `title` column as input for extracting the actual articles w/ wikipedia-api\n",
    "- [x] Save as pandas dataframe"
   ]
  },
  {
   "cell_type": "code",
   "execution_count": 2,
   "metadata": {},
   "outputs": [],
   "source": [
    "import pandas as pd\n",
    "import numpy as np\n",
    "\n",
    "import pickle\n",
    "import wikipediaapi"
   ]
  },
  {
   "cell_type": "markdown",
   "metadata": {},
   "source": [
    "### Extract pages from WIKIPEDIA-API"
   ]
  },
  {
   "cell_type": "code",
   "execution_count": 3,
   "metadata": {},
   "outputs": [
    {
     "data": {
      "text/html": [
       "<div>\n",
       "<style scoped>\n",
       "    .dataframe tbody tr th:only-of-type {\n",
       "        vertical-align: middle;\n",
       "    }\n",
       "\n",
       "    .dataframe tbody tr th {\n",
       "        vertical-align: top;\n",
       "    }\n",
       "\n",
       "    .dataframe thead th {\n",
       "        text-align: right;\n",
       "    }\n",
       "</style>\n",
       "<table border=\"1\" class=\"dataframe\">\n",
       "  <thead>\n",
       "    <tr style=\"text-align: right;\">\n",
       "      <th></th>\n",
       "      <th>number</th>\n",
       "      <th>title</th>\n",
       "      <th>pageid</th>\n",
       "      <th>namespace</th>\n",
       "      <th>length</th>\n",
       "      <th>touched</th>\n",
       "    </tr>\n",
       "  </thead>\n",
       "  <tbody>\n",
       "    <tr>\n",
       "      <th>2286</th>\n",
       "      <td>2287</td>\n",
       "      <td>The_Barbarian_of_World's_End</td>\n",
       "      <td>62287035</td>\n",
       "      <td>NaN</td>\n",
       "      <td>5608</td>\n",
       "      <td>20200202073312</td>\n",
       "    </tr>\n",
       "    <tr>\n",
       "      <th>2287</th>\n",
       "      <td>2288</td>\n",
       "      <td>The_Pirate_of_World's_End</td>\n",
       "      <td>62287050</td>\n",
       "      <td>NaN</td>\n",
       "      <td>5679</td>\n",
       "      <td>20200202073312</td>\n",
       "    </tr>\n",
       "    <tr>\n",
       "      <th>2288</th>\n",
       "      <td>2289</td>\n",
       "      <td>Wrath_of_Empire</td>\n",
       "      <td>62641545</td>\n",
       "      <td>NaN</td>\n",
       "      <td>2879</td>\n",
       "      <td>20200202073425</td>\n",
       "    </tr>\n",
       "    <tr>\n",
       "      <th>2289</th>\n",
       "      <td>2290</td>\n",
       "      <td>Blood_of_Empire</td>\n",
       "      <td>62653198</td>\n",
       "      <td>NaN</td>\n",
       "      <td>2498</td>\n",
       "      <td>20200221011008</td>\n",
       "    </tr>\n",
       "    <tr>\n",
       "      <th>2290</th>\n",
       "      <td>2291</td>\n",
       "      <td>The_Light_Ages</td>\n",
       "      <td>62971385</td>\n",
       "      <td>NaN</td>\n",
       "      <td>3633</td>\n",
       "      <td>20200204103212</td>\n",
       "    </tr>\n",
       "  </tbody>\n",
       "</table>\n",
       "</div>"
      ],
      "text/plain": [
       "      number                         title    pageid  namespace  length  \\\n",
       "2286    2287  The_Barbarian_of_World's_End  62287035        NaN    5608   \n",
       "2287    2288     The_Pirate_of_World's_End  62287050        NaN    5679   \n",
       "2288    2289               Wrath_of_Empire  62641545        NaN    2879   \n",
       "2289    2290               Blood_of_Empire  62653198        NaN    2498   \n",
       "2290    2291                The_Light_Ages  62971385        NaN    3633   \n",
       "\n",
       "             touched  \n",
       "2286  20200202073312  \n",
       "2287  20200202073312  \n",
       "2288  20200202073425  \n",
       "2289  20200221011008  \n",
       "2290  20200204103212  "
      ]
     },
     "execution_count": 3,
     "metadata": {},
     "output_type": "execute_result"
    }
   ],
   "source": [
    "# open csv file\n",
    "novel_list = pd.read_csv('../data/novels_by_decade.csv')\n",
    "novel_list.tail()"
   ]
  },
  {
   "cell_type": "code",
   "execution_count": 4,
   "metadata": {},
   "outputs": [],
   "source": [
    "# Collect names of novels\n",
    "novel_titles = novel_list['title'].values.tolist()"
   ]
  },
  {
   "cell_type": "markdown",
   "metadata": {},
   "source": [
    "---"
   ]
  },
  {
   "cell_type": "code",
   "execution_count": 5,
   "metadata": {},
   "outputs": [],
   "source": [
    "# wikipedia wrapper function \n",
    "\n",
    "def getarticles(titles):\n",
    "    '''Function returns the titles of articles on wikipedia, in the form \n",
    "    of a list of dictionaries\n",
    "    input:\n",
    "        titles - is list of titles\n",
    "    '''\n",
    "    collection =[]\n",
    "    for each in titles:\n",
    "        wiki = wikipediaapi.Wikipedia(\n",
    "                language='en',\n",
    "                extract_format=wikipediaapi.ExtractFormat.WIKI\n",
    "        )\n",
    "        collection.append(wiki.page(each))\n",
    "        \n",
    "    return collection\n",
    " "
   ]
  },
  {
   "cell_type": "code",
   "execution_count": 6,
   "metadata": {},
   "outputs": [],
   "source": [
    "# collect articles under the category of Fantasy\n",
    "collection = getarticles(novel_titles)"
   ]
  },
  {
   "cell_type": "code",
   "execution_count": 7,
   "metadata": {},
   "outputs": [
    {
     "name": "stdout",
     "output_type": "stream",
     "text": [
      "total number of articles collected:  2291\n"
     ]
    }
   ],
   "source": [
    "print('total number of articles collected: ', len(collection))"
   ]
  },
  {
   "cell_type": "code",
   "execution_count": 8,
   "metadata": {},
   "outputs": [
    {
     "data": {
      "text/plain": [
       "list"
      ]
     },
     "execution_count": 8,
     "metadata": {},
     "output_type": "execute_result"
    }
   ],
   "source": [
    "type(collection)"
   ]
  },
  {
   "cell_type": "code",
   "execution_count": 9,
   "metadata": {},
   "outputs": [
    {
     "data": {
      "text/plain": [
       "wikipediaapi.WikipediaPage"
      ]
     },
     "execution_count": 9,
     "metadata": {},
     "output_type": "execute_result"
    }
   ],
   "source": [
    "type(collection[0])"
   ]
  },
  {
   "cell_type": "code",
   "execution_count": 10,
   "metadata": {},
   "outputs": [
    {
     "data": {
      "text/plain": [
       "'A_Wizard_of_Earthsea'"
      ]
     },
     "execution_count": 10,
     "metadata": {},
     "output_type": "execute_result"
    }
   ],
   "source": [
    "collection[0].title"
   ]
  },
  {
   "cell_type": "code",
   "execution_count": 11,
   "metadata": {},
   "outputs": [
    {
     "data": {
      "text/plain": [
       "'A Wizard of Earthsea is a fantasy novel written by American author Ursula K. Le Guin and first published by the small press Parnassus in 1968. It is regarded as a classic of children\\'s literature, and of fantasy, within which it was widely influential. The story is set in the fictional archipelago of Earthsea and centers around a young mage named Ged, born in a village on the island of Gont. He displays great power while still a boy and joins the school of wizardry, where his prickly nature drives him into conflict with one of his fellows. During a magical duel, Ged\\'s spell goes awry and releases a shadow creature that attacks him. The novel follows his journey as he seeks to be free of the creature.\\nThe book has often been described as a Bildungsroman, or coming-of-age story, as it explores Ged\\'s process of learning to cope with power and come to terms with death. The novel also carries Taoist themes about a fundamental balance in the universe of Earthsea, which wizards are supposed to maintain, closely tied to the idea that language and names have power to affect the material world and alter this balance. The structure of the story is similar to that of a traditional epic, although critics have also described it as subverting this genre in many ways, such as by making the protagonist dark-skinned in contrast to more typical white-skinned heroes.\\nA Wizard of Earthsea received highly positive reviews, initially as a work for children and later among a general audience as well. It won the Boston Globe–Horn Book Award in 1969 and was one of the final recipients of the Lewis Carroll Shelf Award in 1979. Margaret Atwood called it one of the \"wellsprings\" of fantasy literature. Le Guin wrote five subsequent books that are collectively referred to as the Earthsea Cycle, together with A Wizard of Earthsea: The Tombs of Atuan (1971), The Farthest Shore (1972), Tehanu (1990), The Other Wind (2001), and Tales from Earthsea (2001). George Slusser described the series as a \"work of high style and imagination\", while Amanda Craig said that A Wizard of Earthsea was \"the most thrilling, wise, and beautiful children\\'s novel ever\".'"
      ]
     },
     "execution_count": 11,
     "metadata": {},
     "output_type": "execute_result"
    }
   ],
   "source": [
    "collection[0].summary"
   ]
  },
  {
   "cell_type": "code",
   "execution_count": 12,
   "metadata": {},
   "outputs": [
    {
     "name": "stdout",
     "output_type": "stream",
     "text": [
      "Here's an example of novel\n"
     ]
    }
   ],
   "source": [
    "print(\"Here's an example of novel\")\n",
    "# collection[0].text"
   ]
  },
  {
   "cell_type": "markdown",
   "metadata": {},
   "source": [
    "**Unpack Results**\n",
    "- Collect titles and summaries from wiki articles, convert them into lists, \n",
    "- Then, create a pandas dataframe "
   ]
  },
  {
   "cell_type": "code",
   "execution_count": 13,
   "metadata": {},
   "outputs": [],
   "source": [
    "# Collect all the titles from dictionary (collection)\n",
    "# This step will take a while if you have a lot of data\n",
    "titles = [each.title for each in collection]\n",
    "summaries = [each.summary for each in collection]"
   ]
  },
  {
   "cell_type": "code",
   "execution_count": 14,
   "metadata": {},
   "outputs": [],
   "source": [
    "# Pickle these lists, just in case\n",
    "with open('../data/list_summaries_novelMAS.pkl','wb') as fout:\n",
    "    pickle.dump(summaries, fout)\n",
    "    \n",
    "# # Pickle the lists, just in case\n",
    "with open('../data/list_titles_novelMAS.pkl','wb') as fout:\n",
    "    pickle.dump(titles, fout)"
   ]
  },
  {
   "cell_type": "code",
   "execution_count": 15,
   "metadata": {},
   "outputs": [],
   "source": [
    "# Put these lists in to a dataframe\n",
    "df = pd.DataFrame(np.c_[titles, summaries], \n",
    "                  columns=['title', 'summary'])"
   ]
  },
  {
   "cell_type": "code",
   "execution_count": 16,
   "metadata": {},
   "outputs": [
    {
     "data": {
      "text/html": [
       "<div>\n",
       "<style scoped>\n",
       "    .dataframe tbody tr th:only-of-type {\n",
       "        vertical-align: middle;\n",
       "    }\n",
       "\n",
       "    .dataframe tbody tr th {\n",
       "        vertical-align: top;\n",
       "    }\n",
       "\n",
       "    .dataframe thead th {\n",
       "        text-align: right;\n",
       "    }\n",
       "</style>\n",
       "<table border=\"1\" class=\"dataframe\">\n",
       "  <thead>\n",
       "    <tr style=\"text-align: right;\">\n",
       "      <th></th>\n",
       "      <th>title</th>\n",
       "      <th>summary</th>\n",
       "    </tr>\n",
       "  </thead>\n",
       "  <tbody>\n",
       "    <tr>\n",
       "      <th>0</th>\n",
       "      <td>A Wizard of Earthsea</td>\n",
       "      <td>A Wizard of Earthsea is a fantasy novel writte...</td>\n",
       "    </tr>\n",
       "    <tr>\n",
       "      <th>1</th>\n",
       "      <td>Carmilla</td>\n",
       "      <td>Carmilla is an 1872 Gothic novella by Irish au...</td>\n",
       "    </tr>\n",
       "    <tr>\n",
       "      <th>2</th>\n",
       "      <td>Don_Quixote</td>\n",
       "      <td>The Ingenious Gentleman Don Quixote of La Manc...</td>\n",
       "    </tr>\n",
       "    <tr>\n",
       "      <th>3</th>\n",
       "      <td>Erewhon</td>\n",
       "      <td>Erewhon: or, Over the Range () is a novel by S...</td>\n",
       "    </tr>\n",
       "    <tr>\n",
       "      <th>4</th>\n",
       "      <td>Farmer_Giles_of_Ham</td>\n",
       "      <td>Farmer Giles of Ham is a comic Medieval fable ...</td>\n",
       "    </tr>\n",
       "  </tbody>\n",
       "</table>\n",
       "</div>"
      ],
      "text/plain": [
       "                  title                                            summary\n",
       "0  A Wizard of Earthsea  A Wizard of Earthsea is a fantasy novel writte...\n",
       "1              Carmilla  Carmilla is an 1872 Gothic novella by Irish au...\n",
       "2           Don_Quixote  The Ingenious Gentleman Don Quixote of La Manc...\n",
       "3               Erewhon  Erewhon: or, Over the Range () is a novel by S...\n",
       "4   Farmer_Giles_of_Ham  Farmer Giles of Ham is a comic Medieval fable ..."
      ]
     },
     "execution_count": 16,
     "metadata": {},
     "output_type": "execute_result"
    }
   ],
   "source": [
    "df.head()"
   ]
  },
  {
   "cell_type": "code",
   "execution_count": 17,
   "metadata": {},
   "outputs": [],
   "source": [
    "# Pickle the dataframe for latter processing\n",
    "with open('../data/dfraw_novelMAS.pkl','wb') as fout:\n",
    "    pickle.dump(df, fout)"
   ]
  },
  {
   "cell_type": "markdown",
   "metadata": {},
   "source": [
    "**Next step**:\n",
    "- Clean the dataframe and do EDA, in Step2_Cleaning.ipynb"
   ]
  },
  {
   "cell_type": "markdown",
   "metadata": {},
   "source": [
    "---"
   ]
  },
  {
   "cell_type": "code",
   "execution_count": null,
   "metadata": {},
   "outputs": [],
   "source": []
  }
 ],
 "metadata": {
  "kernelspec": {
   "display_name": "Python [conda env:metis] *",
   "language": "python",
   "name": "conda-env-metis-py"
  },
  "language_info": {
   "codemirror_mode": {
    "name": "ipython",
    "version": 3
   },
   "file_extension": ".py",
   "mimetype": "text/x-python",
   "name": "python",
   "nbconvert_exporter": "python",
   "pygments_lexer": "ipython3",
   "version": "3.7.4"
  }
 },
 "nbformat": 4,
 "nbformat_minor": 4
}
