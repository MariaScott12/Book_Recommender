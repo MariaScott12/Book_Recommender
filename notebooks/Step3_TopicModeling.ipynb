{
 "cells": [
  {
   "cell_type": "markdown",
   "metadata": {},
   "source": [
    "## Topic Modeling with Non-negative Matrix Factorization"
   ]
  },
  {
   "cell_type": "markdown",
   "metadata": {},
   "source": [
    "#### Import required tools"
   ]
  },
  {
   "cell_type": "code",
   "execution_count": 4,
   "metadata": {},
   "outputs": [],
   "source": [
    "#!conda install -c conda-forge spacy -y"
   ]
  },
  {
   "cell_type": "code",
   "execution_count": 4,
   "metadata": {},
   "outputs": [],
   "source": [
    "import nltk\n",
    "from nltk.tokenize import word_tokenize\n",
    "from nltk.tag import pos_tag\n",
    "from nltk.chunk import ne_chunk\n",
    "import spacy\n"
   ]
  },
  {
   "cell_type": "code",
   "execution_count": 5,
   "metadata": {},
   "outputs": [],
   "source": [
    "import pandas as pd\n",
    "import numpy as np\n",
    "import re\n",
    "import os\n",
    "import string\n",
    "import pickle\n",
    "from miscScripts import *\n",
    "\n",
    "import nltk\n",
    "from nltk.corpus import wordnet \n",
    "from nltk import wordpunct_tokenize\n",
    "\n",
    "from sklearn.feature_extraction.text import CountVectorizer, TfidfVectorizer\n",
    "from sklearn.decomposition import NMF\n",
    "from sklearn.metrics.pairwise import cosine_similarity\n",
    "\n",
    "from matplotlib import pyplot as plt\n",
    "%matplotlib inline\n",
    "%load_ext autoreload\n",
    "%autoreload 2"
   ]
  },
  {
   "cell_type": "code",
   "execution_count": 6,
   "metadata": {},
   "outputs": [],
   "source": [
    "#Just some text from a Wiki sample to use for testing in lower cells\n",
    "text = 'A Wizard of Earthsea is a fantasy novel written by American author \\\n",
    "Ursula K. Le Guin and first published by the small press Parnassus in 1968. \\\n",
    "It is regarded as a classic of children\\'s literature, and of fantasy, within \\\n",
    "which it was widely influential. The story is set in the fictional archipelago \\\n",
    "of Earthsea and centers around a young mage named Ged, born in a village on the \\\n",
    "island of Gont. He displays great power while still a boy and joins the school\\\n",
    "of wizardry, where his prickly nature drives him into conflict with one of his \\\n",
    "fellows. During a magical duel, Ged\\'s spell goes awry and releases a shadow \\\n",
    "creature that attacks him. The novel follows his journey as he seeks to be free \\\n",
    "of the creature. The book has often been described as a Bildungsroman, \\\n",
    "or coming-of-age story, as it explores Ged\\'s process of learning to cope with \\\n",
    "power and come to terms with death. The novel also carries Taoist themes about a \\\n",
    "fundamental balance in the universe of Earthsea, which wizards are supposed to maintain, \\\n",
    "closely tied to the idea that language and names have power to affect the material world \\\n",
    "and alter this balance. The structure of the story is similar to that of a traditional epic, \\\n",
    "although critics have also described it as subverting this genre in many ways, such as by \\\n",
    "making the protagonist dark-skinned in contrast to more typical white-skinned heroes. \\\n",
    "A Wizard of Earthsea received highly positive reviews, initially as a work for children\\\n",
    "and later among a general audience as well. It won the Boston Globe–Horn Book Award in\\\n",
    "1969 and was one of the final recipients of the Lewis Carroll Shelf Award in 1979. \\\n",
    "Margaret Atwood called it one of the \"wellsprings\" of fantasy literature. Le Guin \\\n",
    "wrote five subsequent books that are collectively referred to as the Earthsea Cycle, \\\n",
    "together with A Wizard of Earthsea: The Tombs of Atuan (1971), The Farthest Shore (1972),\\\n",
    "Tehanu (1990), The Other Wind (2001), and Tales from Earthsea (2001). George Slusser \\\n",
    "described the series as a \"work of high style and imagination\", while Amanda Craig\\\n",
    "sid that A Wizard of Earthsea was\"the most thrilling, wise, and beautiful children novel ever\".'"
   ]
  },
  {
   "cell_type": "code",
   "execution_count": 8,
   "metadata": {},
   "outputs": [
    {
     "name": "stderr",
     "output_type": "stream",
     "text": [
      "[nltk_data] Downloading package stopwords to\n",
      "[nltk_data]     /Users/mariascott/nltk_data...\n",
      "[nltk_data]   Package stopwords is already up-to-date!\n"
     ]
    },
    {
     "data": {
      "text/plain": [
       "True"
      ]
     },
     "execution_count": 8,
     "metadata": {},
     "output_type": "execute_result"
    }
   ],
   "source": [
    "nltk.download('stopwords')"
   ]
  },
  {
   "cell_type": "markdown",
   "metadata": {},
   "source": [
    "### Importing Pickled Dataframe"
   ]
  },
  {
   "cell_type": "code",
   "execution_count": 8,
   "metadata": {},
   "outputs": [],
   "source": [
    "# Unpickle the clean data\n",
    "with open('../data/fclean_novel_non_series.pkl','rb') as fin:\n",
    "    df = pickle.load(fin)"
   ]
  },
  {
   "cell_type": "code",
   "execution_count": 9,
   "metadata": {},
   "outputs": [
    {
     "data": {
      "text/plain": [
       "'A Wizard of Earthsea is a fantasy novel written by American author Ursula K. Le Guin and first published by the small press Parnassus in 1968. It is regarded as a classic of children\\'s literature, and of fantasy, within which it was widely influential. The story is set in the fictional archipelago of Earthsea and centers around a young mage named Ged, born in a village on the island of Gont. He displays great power while still a boy and joins the school of wizardry, where his prickly nature drives him into conflict with one of his fellows. During a magical duel, Ged\\'s spell goes awry and releases a shadow creature that attacks him. The novel follows his journey as he seeks to be free of the creature. The book has often been described as a Bildungsroman, or coming-of-age story, as it explores Ged\\'s process of learning to cope with power and come to terms with death. The novel also carries Taoist themes about a fundamental balance in the universe of Earthsea, which wizards are supposed to maintain, closely tied to the idea that language and names have power to affect the material world and alter this balance. The structure of the story is similar to that of a traditional epic, although critics have also described it as subverting this genre in many ways, such as by making the protagonist dark-skinned in contrast to more typical white-skinned heroes. A Wizard of Earthsea received highly positive reviews, initially as a work for children and later among a general audience as well. It won the Boston Globe–Horn Book Award in 1969 and was one of the final recipients of the Lewis Carroll Shelf Award in 1979. Margaret Atwood called it one of the \"wellsprings\" of fantasy literature. Le Guin wrote five subsequent books that are collectively referred to as the Earthsea Cycle, together with A Wizard of Earthsea: The Tombs of Atuan (1971), The Farthest Shore (1972), Tehanu (1990), The Other Wind (2001), and Tales from Earthsea (2001). George Slusser described the series as a \"work of high style and imagination\", while Amanda Craig said that A Wizard of Earthsea was \"the most thrilling, wise, and beautiful children\\'s novel ever\".'"
      ]
     },
     "execution_count": 9,
     "metadata": {},
     "output_type": "execute_result"
    }
   ],
   "source": [
    "test = df.iloc[0]['summary']\n",
    "test"
   ]
  },
  {
   "cell_type": "code",
   "execution_count": 10,
   "metadata": {},
   "outputs": [
    {
     "data": {
      "text/html": [
       "<div>\n",
       "<style scoped>\n",
       "    .dataframe tbody tr th:only-of-type {\n",
       "        vertical-align: middle;\n",
       "    }\n",
       "\n",
       "    .dataframe tbody tr th {\n",
       "        vertical-align: top;\n",
       "    }\n",
       "\n",
       "    .dataframe thead th {\n",
       "        text-align: right;\n",
       "    }\n",
       "</style>\n",
       "<table border=\"1\" class=\"dataframe\">\n",
       "  <thead>\n",
       "    <tr style=\"text-align: right;\">\n",
       "      <th></th>\n",
       "      <th>title</th>\n",
       "      <th>summary</th>\n",
       "    </tr>\n",
       "  </thead>\n",
       "  <tbody>\n",
       "    <tr>\n",
       "      <th>0</th>\n",
       "      <td>A Wizard of Earthsea</td>\n",
       "      <td>A Wizard of Earthsea is a fantasy novel writte...</td>\n",
       "    </tr>\n",
       "  </tbody>\n",
       "</table>\n",
       "</div>"
      ],
      "text/plain": [
       "                  title                                            summary\n",
       "0  A Wizard of Earthsea  A Wizard of Earthsea is a fantasy novel writte..."
      ]
     },
     "execution_count": 10,
     "metadata": {},
     "output_type": "execute_result"
    }
   ],
   "source": [
    "df.head(1)"
   ]
  },
  {
   "cell_type": "markdown",
   "metadata": {},
   "source": [
    "---"
   ]
  },
  {
   "cell_type": "markdown",
   "metadata": {},
   "source": [
    "## Feature Reduction with NLTK, spaCY, custom stop words"
   ]
  },
  {
   "cell_type": "code",
   "execution_count": 11,
   "metadata": {},
   "outputs": [],
   "source": [
    "# Turning texts into a list\n",
    "#Note that the use of the term tokens is a bit of a misnomer\n",
    "sentences_tokens = df['summary'].tolist()"
   ]
  },
  {
   "cell_type": "markdown",
   "metadata": {},
   "source": [
    "#### NLTK \n",
    "\n",
    "- English stop word library"
   ]
  },
  {
   "cell_type": "code",
   "execution_count": 12,
   "metadata": {},
   "outputs": [],
   "source": [
    "from nltk.corpus import stopwords "
   ]
  },
  {
   "cell_type": "code",
   "execution_count": 13,
   "metadata": {},
   "outputs": [],
   "source": [
    "stop_words = set(stopwords.words('english'))\n",
    "custom_stop_words = set(['book', 'books', 'author','novel','movie','film','award',\n",
    "                         'awards','films','movies','authors','publish','published',\n",
    "                         'written','series', 'television','paperback','illustrated',\n",
    "                         'story', 'stories','writer','trilogy','fiction','fantasy',\n",
    "                         'brian','jacques','edgar','rice','burroughs','tom','howard',\n",
    "                         'diana','jones','wynne','terry','prachett','title','chapter',\n",
    "                         'character','chronologically', \n",
    "                         'first', 'american', 'edition', 'released', 'second', 'world',\n",
    "                         'children', 'best', 'third', 'also', 'new', 'novels', 'set', \n",
    "                         'british', 'adult', 'two',\n",
    "                         'featuring', 'robert', 'hero', 'first', 'hero',\n",
    "                         'science', 'time', 'young', 'sequel', 'part', 'four', 'united',\n",
    "                         'three', 'one', 'may', 'year','magazine', 'later', 'form',\n",
    "                         'hardcover', 'english', 'last', 'sequels', 'trilogy','wrote','version','novella',\n",
    "                         'australian','setting','issued','publisher','fictional','release','imprint','style',\n",
    "                         'published','narrate','narrated','based','setting','expansion','anthology',\n",
    "                         'copywright','serialized','serial','issued','tagline','taglines',\n",
    "                         'serially','publication','language','languages','adaption','collaboration',\n",
    "                         'successors','nominated','novellas','installment','writing','protagonist','titled',\n",
    "                         'created','including','included','include','chapter','subtitle','illustrations',\n",
    "                         'nominee','appeared','intended','republished','novellette','themed','prequel',\n",
    "                         'involving','continues','continued','conclusion','received','originally','directed',\n",
    "                         'volumes','audiobook','copies','novelization','debut','chapters','trilogies','within',\n",
    "                         'elements','novelist','reissued','print','expanded','remained','remains','remain',\n",
    "                         'artist',\n",
    "                         'artyists','feature','features','ongoing','chronology','known','proceed','proceeded',\n",
    "                         'proceeds','evans','watt','genre','genres','since','finalist','whose','tell','tells',\n",
    "                         'cover','covers','preceded','inaugerated','penultimate','resectively','winning',\n",
    "                         'however',\n",
    "                         'shorlisted','whose','debuted','introduction','preceding','contain','contains',\n",
    "                         'finished',\n",
    "                         'retitled','background','composed','announced','authored','continuing','consists',\n",
    "                         'details','initially','mainly','simply','critics','would','subsequently',\n",
    "                         'posthumously',\n",
    "                         'immediately','previously','longlisted','republication','supposedly','shorlisted',\n",
    "                         'involves','winning','unabridged','inspired','selling','finally','extended','placed',\n",
    "                         'trend','referenced','unabridged','abridged','market','accessory','running','takes',\n",
    "                         'completed','success','million','commercial','sold','comprises', 'becomes','indicates',\n",
    "                         'took','selected','novelette','shortlisted','name','revolves','usually','combined',\n",
    "                         'spin',\n",
    "                         'animated','along','issue','includes','respectively','simultaneously','partularly',\n",
    "                         'awarded',\n",
    "                         'made','takes','taken','began','main','concludes','eventually','selected','appear',\n",
    "                         'appears','states','german','translated','japanese',\n",
    "                         'russian', 'considered', 'entry', 'together',\n",
    "                         'transported', 'parts', 'sons', 'swedish', 'interior',\n",
    "                         'authorized', 'chicago', 'loose', 'core'                         \n",
    "                        ])\n",
    "custom_stop_words = stop_words.union(custom_stop_words)"
   ]
  },
  {
   "cell_type": "markdown",
   "metadata": {},
   "source": [
    "#### spaCy for feature reduction"
   ]
  },
  {
   "cell_type": "code",
   "execution_count": 14,
   "metadata": {},
   "outputs": [],
   "source": [
    "#Use spaCy for Named Entity Recognition to further refine stopwords\n",
    "nlp = spacy.load(\"en_core_web_sm\")\n",
    "ner_stopwords = []\n",
    "'''\n",
    "Using Spacy to detect NERs, if it is a person, ordinal, org, date, work of art. Add those to stop words.\n",
    "Then split the NER with multiple words into single words to be added to the stopwords\n",
    "'''\n",
    "def NER_stopwords(summary):\n",
    "    doc = nlp(summary)\n",
    "    for ent in doc.ents:\n",
    "        if ent.label_ in ['PERSON', 'ORDINAL', 'ORG', 'DATE', 'WORK_OF_ART']: \n",
    "            word_list = ent.text.lower().split(' ')\n",
    "            for word in word_list:\n",
    "                ner_stopwords.append(word)"
   ]
  },
  {
   "cell_type": "code",
   "execution_count": 15,
   "metadata": {},
   "outputs": [],
   "source": [
    "'''\n",
    "SpaCy allows us to do name recognition but the way it works, \n",
    "the text needs to have it's punctation and Captitalization still.  \n",
    "Attempt to identify the named entities in the text. Specifically, \n",
    "Author Name to remove them from the text.\n",
    "\n",
    "'''\n",
    "df['summary'].apply(NER_stopwords)\n",
    "ner_stopwords = set(ner_stopwords)"
   ]
  },
  {
   "cell_type": "code",
   "execution_count": 16,
   "metadata": {},
   "outputs": [],
   "source": [
    "custom_stop_words = ner_stopwords.union(custom_stop_words)"
   ]
  },
  {
   "cell_type": "markdown",
   "metadata": {},
   "source": [
    "## Vectorizing and Creating Document-To-Term Matrix "
   ]
  },
  {
   "cell_type": "markdown",
   "metadata": {},
   "source": [
    "Using **TF-IDF** vectorizer  \n",
    "-test ngram_range  \n",
    "-min_df:  recall that c used for removing terms that appear too **infrequently**  \n",
    "-max_df: is used for removing data values that appear too **frequently**  "
   ]
  },
  {
   "cell_type": "code",
   "execution_count": 17,
   "metadata": {},
   "outputs": [
    {
     "name": "stderr",
     "output_type": "stream",
     "text": [
      "/opt/miniconda3/envs/metis/lib/python3.7/site-packages/sklearn/feature_extraction/text.py:300: UserWarning: Your stop_words may be inconsistent with your preprocessing. Tokenizing the stop words generated tokens ['abbas', 'academ', 'admiral', 'ahrairah', 'aleph', 'amanzei', 'amlaib', 'amour', 'anasurimbor', 'ange', 'anglo', 'angus', 'ankh', 'ansichten', 'anti', 'archer', 'arellano', 'argo', 'ariosto', 'aspect', 'auld', 'babies', 'bahram', 'baptiste', 'bas', 'bass', 'bathory', 'bearer', 'beckett', 'bergli', 'bits', 'bjorn', 'blatter', 'boat', 'bobbs', 'bodenburg', 'brien', 'broceliande', 'broderna', 'bronte', 'bros', 'brosel', 'bulgakov', 'bulwer', 'burne', 'burrough', 'cage', 'california', 'cathedral', 'cesar', 'chandagnac', 'changjo', 'charon', 'cher', 'chilperic', 'chosen', 'ciron', 'clock', 'collier', 'colored', 'colt', 'com', 'commander', 'constable', 'cornwell', 'corona', 'critic', 'cuailnge', 'cuaran', 'cuckoo', 'cursor', 'dalucan', 'dane', 'darius', 'dart', 'defense', 'deharme', 'dieben', 'dieudonne', 'divan', 'dobree', 'doll', 'donnell', 'dooit', 'dore', 'doswiadczynskiego', 'dwr', 'eating', 'eighteen', 'eighty', 'einhorns', 'ellie', 'engle', 'erekose', 'erenn', 'esplandian', 'este', 'father', 'ferat', 'fitzpatrick', 'fleabee', 'fostering', 'fouque', 'francois', 'freischutz', 'fusui', 'gabala', 'gachi', 'gardener', 'gavagan', 'general', 'genevieve', 'gently', 'glyndwr', 'goddess', 'gorodetsky', 'grammaticus', 'groo', 'grottasongr', 'guilin', 'gwenhwyfar', 'hammarsten', 'haver', 'haxmastaren', 'heigh', 'hime', 'histoire', 'hogarth', 'holgersson', 'hrolfs', 'huttser', 'huysmans', 'ichiro', 'iran', 'istanbul', 'jacobin', 'jaw', 'jersek', 'jimber', 'jin', 'jor', 'joris', 'jose', 'kagaya', 'kal', 'kanpani', 'kastner', 'keefe', 'khing', 'khos', 'klim', 'knaak', 'knezevic', 'koboi', 'koga', 'korkarlen', 'kosidans', 'kuromajo', 'kuz', 'kyokai', 'lag', 'lagerlof', 'lat', 'learmonth', 'lebens', 'lecouffe', 'lejonhjarta', 'lissa', 'lokomotivfuhrer', 'longmans', 'looking', 'loved', 'lowenskold', 'lowenskolds', 'lowenskoldska', 'luthien', 'lytton', 'macadam', 'mael', 'mallet', 'malley', 'malmes', 'mao', 'marchenmond', 'marchenmonds', 'mecanique', 'melinda', 'melusine', 'mendoza', 'mepris', 'merrill', 'meta', 'mich', 'mid', 'mieville', 'mindelan', 'minneapolis', 'moenghus', 'moliere', 'momotaro', 'money', 'morda', 'mori', 'morpork', 'munchhausen', 'myrren', 'naro', 'nation', 'nestle', 'neveryon', 'neveryona', 'nichiyobi', 'ninpocho', 'nixie', 'nolan', 'non', 'null', 'numenor', 'oct', 'orient', 'oversvamningen', 'pani', 'pape', 'peasants', 'pegasus', 'peril', 'pevin', 'pitchford', 'pokemon', 'pre', 'pringle', 'pupil', 'ramirez', 'ramis', 'raphaelite', 'rashid', 'ratte', 'right', 'rohm', 'romantic', 'roo', 'rosenthal', 'rotger', 'rucker', 'rus', 'sama', 'san', 'sarmanul', 'sartarelli', 'sasami', 'sasha', 'saxon', 'sci', 'scientific', 'scrivener', 'scylla', 'seeker', 'seer', 'self', 'sept', 'seventeen', 'sfbc', 'shambles', 'shangri', 'shimu', 'shin', 'shitou', 'shokudo', 'shosetsuka', 'sidhe', 'siebenkas', 'sim', 'skaldskaparmal', 'slash', 'snodde', 'sodo', 'soichiro', 'sommer', 'speaker', 'spire', 'stained', 'starblaze', 'stevens', 'stori', 'sub', 'suskind', 'svard', 'tag', 'tain', 'talese', 'tamir', 'tangor', 'tea', 'teachers', 'tedric', 'tempered', 'temple', 'thag', 'theophile', 'thornton', 'thraun', 'tik', 'tit', 'tjong', 'tok', 'traveler', 'tri', 'tuatha', 'tyra', 'uberwald', 'unfulfill', 'unmotivated', 'urden', 'vanguard', 'virakam', 'volonte', 'walden', 'watkins', 'watteau', 'webber', 'wieza', 'winner', 'wolfenbach', 'wutton', 'yahtzee', 'yugen', 'yusha', 'zac', 'zame', 'zani', 'zelie', 'zuruckbrachte'] not in stop_words.\n",
      "  'stop_words.' % sorted(inconsistent))\n"
     ]
    }
   ],
   "source": [
    "#TFIDF\n",
    "#create an instance of the TFID class\n",
    "\n",
    "vectorizer = TfidfVectorizer(token_pattern = r'\\b[a-zA-Z]{3,}\\b',\n",
    "                             stop_words= custom_stop_words, \n",
    "                             strip_accents = 'unicode',\n",
    "                             lowercase=True,\n",
    "                             ngram_range=(1,3),\n",
    "                             min_df = 2,\n",
    "                             max_df = 1.0,\n",
    "                            )\n",
    "\n",
    "# Fit transform the documents\n",
    "#recall that sentences_tokens is df['summary'].tolist()\n",
    "vectorizer.fit(sentences_tokens)\n",
    "tf_vector = vectorizer.transform(sentences_tokens)\n",
    "doc_word = tf_vector\n",
    "tf_feature_names = vectorizer.get_feature_names()\n"
   ]
  },
  {
   "cell_type": "code",
   "execution_count": 18,
   "metadata": {},
   "outputs": [],
   "source": [
    "#Marie, don't get confused, this code looks redundant, but is getting to the feature names!!!\n",
    "\n",
    "#Count vectorize and get TF and TF_IDF vectors\n",
    "#Again, recall that sentences_tokens = df['summary'].tolist()\n",
    "\n",
    "\n",
    "tf_vector=vectorizer.fit_transform(sentences_tokens)\n",
    "tf_feature_names = vectorizer.get_feature_names()"
   ]
  },
  {
   "cell_type": "code",
   "execution_count": 19,
   "metadata": {},
   "outputs": [
    {
     "data": {
      "text/html": [
       "<div>\n",
       "<style scoped>\n",
       "    .dataframe tbody tr th:only-of-type {\n",
       "        vertical-align: middle;\n",
       "    }\n",
       "\n",
       "    .dataframe tbody tr th {\n",
       "        vertical-align: top;\n",
       "    }\n",
       "\n",
       "    .dataframe thead th {\n",
       "        text-align: right;\n",
       "    }\n",
       "</style>\n",
       "<table border=\"1\" class=\"dataframe\">\n",
       "  <thead>\n",
       "    <tr style=\"text-align: right;\">\n",
       "      <th></th>\n",
       "      <th>abandon</th>\n",
       "      <th>abducted</th>\n",
       "      <th>abilities</th>\n",
       "      <th>abilities help</th>\n",
       "      <th>ability</th>\n",
       "      <th>ability create</th>\n",
       "      <th>ability see</th>\n",
       "      <th>able</th>\n",
       "      <th>able destroy</th>\n",
       "      <th>aboard</th>\n",
       "      <th>...</th>\n",
       "      <th>xylar gathered sfbc</th>\n",
       "      <th>yarn</th>\n",
       "      <th>youngest</th>\n",
       "      <th>youthful</th>\n",
       "      <th>yvgenie</th>\n",
       "      <th>zamonia</th>\n",
       "      <th>zealand</th>\n",
       "      <th>zimiamvia</th>\n",
       "      <th>zimiamvian</th>\n",
       "      <th>zululand</th>\n",
       "    </tr>\n",
       "    <tr>\n",
       "      <th>title</th>\n",
       "      <th></th>\n",
       "      <th></th>\n",
       "      <th></th>\n",
       "      <th></th>\n",
       "      <th></th>\n",
       "      <th></th>\n",
       "      <th></th>\n",
       "      <th></th>\n",
       "      <th></th>\n",
       "      <th></th>\n",
       "      <th></th>\n",
       "      <th></th>\n",
       "      <th></th>\n",
       "      <th></th>\n",
       "      <th></th>\n",
       "      <th></th>\n",
       "      <th></th>\n",
       "      <th></th>\n",
       "      <th></th>\n",
       "      <th></th>\n",
       "      <th></th>\n",
       "    </tr>\n",
       "  </thead>\n",
       "  <tbody>\n",
       "    <tr>\n",
       "      <th>A Wizard of Earthsea</th>\n",
       "      <td>0.0</td>\n",
       "      <td>0.0</td>\n",
       "      <td>0.0</td>\n",
       "      <td>0.0</td>\n",
       "      <td>0.0</td>\n",
       "      <td>0.0</td>\n",
       "      <td>0.0</td>\n",
       "      <td>0.0</td>\n",
       "      <td>0.0</td>\n",
       "      <td>0.0</td>\n",
       "      <td>...</td>\n",
       "      <td>0.0</td>\n",
       "      <td>0.0</td>\n",
       "      <td>0.0</td>\n",
       "      <td>0.0</td>\n",
       "      <td>0.0</td>\n",
       "      <td>0.0</td>\n",
       "      <td>0.000000</td>\n",
       "      <td>0.0</td>\n",
       "      <td>0.0</td>\n",
       "      <td>0.0</td>\n",
       "    </tr>\n",
       "    <tr>\n",
       "      <th>Carmilla</th>\n",
       "      <td>0.0</td>\n",
       "      <td>0.0</td>\n",
       "      <td>0.0</td>\n",
       "      <td>0.0</td>\n",
       "      <td>0.0</td>\n",
       "      <td>0.0</td>\n",
       "      <td>0.0</td>\n",
       "      <td>0.0</td>\n",
       "      <td>0.0</td>\n",
       "      <td>0.0</td>\n",
       "      <td>...</td>\n",
       "      <td>0.0</td>\n",
       "      <td>0.0</td>\n",
       "      <td>0.0</td>\n",
       "      <td>0.0</td>\n",
       "      <td>0.0</td>\n",
       "      <td>0.0</td>\n",
       "      <td>0.000000</td>\n",
       "      <td>0.0</td>\n",
       "      <td>0.0</td>\n",
       "      <td>0.0</td>\n",
       "    </tr>\n",
       "    <tr>\n",
       "      <th>Don Quixote</th>\n",
       "      <td>0.0</td>\n",
       "      <td>0.0</td>\n",
       "      <td>0.0</td>\n",
       "      <td>0.0</td>\n",
       "      <td>0.0</td>\n",
       "      <td>0.0</td>\n",
       "      <td>0.0</td>\n",
       "      <td>0.0</td>\n",
       "      <td>0.0</td>\n",
       "      <td>0.0</td>\n",
       "      <td>...</td>\n",
       "      <td>0.0</td>\n",
       "      <td>0.0</td>\n",
       "      <td>0.0</td>\n",
       "      <td>0.0</td>\n",
       "      <td>0.0</td>\n",
       "      <td>0.0</td>\n",
       "      <td>0.000000</td>\n",
       "      <td>0.0</td>\n",
       "      <td>0.0</td>\n",
       "      <td>0.0</td>\n",
       "    </tr>\n",
       "    <tr>\n",
       "      <th>Erewhon</th>\n",
       "      <td>0.0</td>\n",
       "      <td>0.0</td>\n",
       "      <td>0.0</td>\n",
       "      <td>0.0</td>\n",
       "      <td>0.0</td>\n",
       "      <td>0.0</td>\n",
       "      <td>0.0</td>\n",
       "      <td>0.0</td>\n",
       "      <td>0.0</td>\n",
       "      <td>0.0</td>\n",
       "      <td>...</td>\n",
       "      <td>0.0</td>\n",
       "      <td>0.0</td>\n",
       "      <td>0.0</td>\n",
       "      <td>0.0</td>\n",
       "      <td>0.0</td>\n",
       "      <td>0.0</td>\n",
       "      <td>0.223854</td>\n",
       "      <td>0.0</td>\n",
       "      <td>0.0</td>\n",
       "      <td>0.0</td>\n",
       "    </tr>\n",
       "    <tr>\n",
       "      <th>Farmer Giles of Ham</th>\n",
       "      <td>0.0</td>\n",
       "      <td>0.0</td>\n",
       "      <td>0.0</td>\n",
       "      <td>0.0</td>\n",
       "      <td>0.0</td>\n",
       "      <td>0.0</td>\n",
       "      <td>0.0</td>\n",
       "      <td>0.0</td>\n",
       "      <td>0.0</td>\n",
       "      <td>0.0</td>\n",
       "      <td>...</td>\n",
       "      <td>0.0</td>\n",
       "      <td>0.0</td>\n",
       "      <td>0.0</td>\n",
       "      <td>0.0</td>\n",
       "      <td>0.0</td>\n",
       "      <td>0.0</td>\n",
       "      <td>0.000000</td>\n",
       "      <td>0.0</td>\n",
       "      <td>0.0</td>\n",
       "      <td>0.0</td>\n",
       "    </tr>\n",
       "  </tbody>\n",
       "</table>\n",
       "<p>5 rows × 4442 columns</p>\n",
       "</div>"
      ],
      "text/plain": [
       "                      abandon  abducted  abilities  abilities help  ability  \\\n",
       "title                                                                         \n",
       "A Wizard of Earthsea      0.0       0.0        0.0             0.0      0.0   \n",
       "Carmilla                  0.0       0.0        0.0             0.0      0.0   \n",
       "Don Quixote               0.0       0.0        0.0             0.0      0.0   \n",
       "Erewhon                   0.0       0.0        0.0             0.0      0.0   \n",
       "Farmer Giles of Ham       0.0       0.0        0.0             0.0      0.0   \n",
       "\n",
       "                      ability create  ability see  able  able destroy  aboard  \\\n",
       "title                                                                           \n",
       "A Wizard of Earthsea             0.0          0.0   0.0           0.0     0.0   \n",
       "Carmilla                         0.0          0.0   0.0           0.0     0.0   \n",
       "Don Quixote                      0.0          0.0   0.0           0.0     0.0   \n",
       "Erewhon                          0.0          0.0   0.0           0.0     0.0   \n",
       "Farmer Giles of Ham              0.0          0.0   0.0           0.0     0.0   \n",
       "\n",
       "                      ...  xylar gathered sfbc  yarn  youngest  youthful  \\\n",
       "title                 ...                                                  \n",
       "A Wizard of Earthsea  ...                  0.0   0.0       0.0       0.0   \n",
       "Carmilla              ...                  0.0   0.0       0.0       0.0   \n",
       "Don Quixote           ...                  0.0   0.0       0.0       0.0   \n",
       "Erewhon               ...                  0.0   0.0       0.0       0.0   \n",
       "Farmer Giles of Ham   ...                  0.0   0.0       0.0       0.0   \n",
       "\n",
       "                      yvgenie  zamonia   zealand  zimiamvia  zimiamvian  \\\n",
       "title                                                                     \n",
       "A Wizard of Earthsea      0.0      0.0  0.000000        0.0         0.0   \n",
       "Carmilla                  0.0      0.0  0.000000        0.0         0.0   \n",
       "Don Quixote               0.0      0.0  0.000000        0.0         0.0   \n",
       "Erewhon                   0.0      0.0  0.223854        0.0         0.0   \n",
       "Farmer Giles of Ham       0.0      0.0  0.000000        0.0         0.0   \n",
       "\n",
       "                      zululand  \n",
       "title                           \n",
       "A Wizard of Earthsea       0.0  \n",
       "Carmilla                   0.0  \n",
       "Don Quixote                0.0  \n",
       "Erewhon                    0.0  \n",
       "Farmer Giles of Ham        0.0  \n",
       "\n",
       "[5 rows x 4442 columns]"
      ]
     },
     "execution_count": 19,
     "metadata": {},
     "output_type": "execute_result"
    }
   ],
   "source": [
    "# Create Doc-Term-Matrix\n",
    "#The titles will now be the index and the words w/b the columns\n",
    "dtm = pd.DataFrame(tf_vector.toarray(),\n",
    "             index= df.title,\n",
    "            columns = vectorizer.get_feature_names())#get_feature_names method of object\n",
    "dtm.head()"
   ]
  },
  {
   "cell_type": "code",
   "execution_count": 20,
   "metadata": {},
   "outputs": [
    {
     "data": {
      "text/plain": [
       "(2290, 4442)"
      ]
     },
     "execution_count": 20,
     "metadata": {},
     "output_type": "execute_result"
    }
   ],
   "source": [
    "dtm.shape"
   ]
  },
  {
   "cell_type": "code",
   "execution_count": 21,
   "metadata": {},
   "outputs": [],
   "source": [
    "# Save vectorizer and documents as pickle files for visualization (another notebook)\n",
    "with open('../data/doc_words_novel.pkl','wb') as fout:\n",
    "    pickle.dump(doc_word, fout)\n",
    "\n",
    "\n",
    "with open('../data/vectorizer_novel.pkl', 'wb') as fout:\n",
    "    pickle.dump(vectorizer, fout)"
   ]
  },
  {
   "cell_type": "markdown",
   "metadata": {},
   "source": [
    "## Topic Modeling  \n",
    "Now that have Document-to-Term matrix need to get to Topics"
   ]
  },
  {
   "cell_type": "markdown",
   "metadata": {},
   "source": [
    "### TOPIC MODELING using Non-negative Matrix Factorization (NMF)  \n",
    "\n",
    "NMF is matrix decomposition that produces 2 matrices with non-negative values.  \n",
    "It can never undo the application of a latent feature because it cannot use negative values to subtract away the effect.\n",
    "\n"
   ]
  },
  {
   "cell_type": "code",
   "execution_count": 22,
   "metadata": {},
   "outputs": [],
   "source": [
    "# Declare a variable to hold a number for topics\n",
    "n = 10"
   ]
  },
  {
   "cell_type": "code",
   "execution_count": 23,
   "metadata": {},
   "outputs": [],
   "source": [
    "# Instantiate an instance of the NMF class and pass in n \n",
    "\n",
    "nmf = NMF(n)\n",
    "\n",
    "#Fit the instance of the class to the \n",
    "nmf.fit(doc_word)\n",
    "nmf_doc_topic = nmf.transform(doc_word) # returns array"
   ]
  },
  {
   "cell_type": "code",
   "execution_count": 24,
   "metadata": {},
   "outputs": [],
   "source": [
    "# Build an NMF with n topics\n",
    "#recall that tf_vector = vectorizer.transform(sentences_tokens) & doc_word = tf_vector\n",
    "nmf = NMF(n)\n",
    "nmf.fit(tf_vector)\n",
    "nmf_doc_topic = nmf.transform(tf_vector) # returns array"
   ]
  },
  {
   "cell_type": "code",
   "execution_count": 25,
   "metadata": {},
   "outputs": [],
   "source": [
    "def display_topics(model, feature_names, no_top_words):\n",
    "    \n",
    "    '''Function to display n topics and top n words'''\n",
    "    \n",
    "    topic_list = []\n",
    "    for topic_idx, topic in enumerate(model.components_):\n",
    "        #print(len(topic))\n",
    "        #print(len(feature_names))\n",
    "        topic_list.append(' '.join([feature_names[i] for i in topic.argsort()[:-no_top_words - 1:-1]]))\n",
    "        \n",
    "        print('Topic %d:' % (topic_idx))\n",
    "        print(topic_list[topic_idx])\n",
    "    return topic_list"
   ]
  },
  {
   "cell_type": "code",
   "execution_count": 26,
   "metadata": {},
   "outputs": [
    {
     "data": {
      "text/plain": [
       "(2290, 10)"
      ]
     },
     "execution_count": 26,
     "metadata": {},
     "output_type": "execute_result"
    }
   ],
   "source": [
    "nmf_doc_topic.shape"
   ]
  },
  {
   "cell_type": "markdown",
   "metadata": {},
   "source": [
    "Recall that the vectorizer function has a get_feature_names method with syntax-> vectorizer.get_feature_names()\n",
    "Declare a variable, topic_list, to store the topics\n",
    "Call the display topics function and pass in the required parameters  \n",
    "\n",
    "        **the model** which in this case is named nmf. \n",
    "        **the feature_names** in this case vectorizer is the name assigned to the TfidfVectorizer OBJECT\\\n",
    "        **at the same time calling the .get_feature_names() method**  \n",
    "        **no_top_words** to specify how many words per topic to be returned"
   ]
  },
  {
   "cell_type": "code",
   "execution_count": 27,
   "metadata": {},
   "outputs": [
    {
     "name": "stdout",
     "output_type": "stream",
     "text": [
      "Topic 0:\n",
      "role playing playing role dragonlance dragonlance role playing dragonlance role hexad hexalogy torn fled\n",
      "Topic 1:\n",
      "alternate powerful initial blends temeraire medieval standalone mieville fictionalized satire\n",
      "Topic 2:\n",
      "find human issues must journey save described use though full\n",
      "Topic 3:\n",
      "regular gathered regular gathered seminal grim regular essay essay career regular essay career essay gathered gathered\n",
      "Topic 4:\n",
      "adapted doctor true practical stage belongs starring adapted adapted spawned combines\n",
      "Topic 5:\n",
      "inaugurated established shared integral linked dying nonfiction self items purposes\n",
      "Topic 6:\n",
      "important printed important printed principal father favorite renowned brief rules rather ritual\n",
      "Topic 7:\n",
      "japan adaptation anime anime adaptation manga lit manga adaptation produced episode adaptation produced\n",
      "Topic 8:\n",
      "historical retelling arthurian explores norwegian seer travelling prime audible historical arthurian\n",
      "Topic 9:\n",
      "wonders fabulous fabulous wonders temple murder comprising currently erekose utopian teenagers\n"
     ]
    }
   ],
   "source": [
    "topic_list = display_topics(nmf, vectorizer.get_feature_names(), no_top_words = 10)"
   ]
  },
  {
   "cell_type": "markdown",
   "metadata": {},
   "source": [
    "### TOPIC MODELING using Latent Dirichlet Allocation (LDA)  \n",
    "LDA is  a Baysian, i.e. probabalistic, approach for generating the document topic matrix.  Documents are represented as random mixtures over latent topics, and each topic is characterized by a distribution over words.  Dirichet priors are used for the document - topic and term - topic distribitutions."
   ]
  },
  {
   "cell_type": "code",
   "execution_count": 28,
   "metadata": {},
   "outputs": [],
   "source": [
    "from sklearn.decomposition import LatentDirichletAllocation"
   ]
  },
  {
   "cell_type": "code",
   "execution_count": 29,
   "metadata": {},
   "outputs": [
    {
     "name": "stdout",
     "output_type": "stream",
     "text": [
      "Topic 0:\n",
      "regular important issues seminal protector ashes nothing much thus adapted cavalier mindelan perhaps humorous themes imaginary featured due person full\n",
      "Topic 1:\n",
      "adaptation anime due anime adaptation positive theme fight flintlock manga different sextet immortality human academ republic shadowlands fully dedicated find rights\n",
      "Topic 2:\n",
      "alternate adapted retelling norwegian combines video travels historical important started principal true juvenile paradox spanish songs darkwar live countries critic\n",
      "Topic 3:\n",
      "japan journey initiated escape find hardback germany druid deals meets given threshold take change use medieval finds put boat format\n",
      "Topic 4:\n",
      "introduces translation travel find historical right arthurian waking ankh morpork ankh morpork appearing addition help dilemma marked follow sign separate numerous\n",
      "Topic 5:\n",
      "role playing playing role italian doctor dragonriders dragonlance save general britain brother dragonriders initiated initiated teenagers description journey africa listed adapted prehistoric\n",
      "Topic 6:\n",
      "alternate format father winner direct person powerful historical epistolary position village humorous mouselets similar must trying refers full zimiamvian entered\n",
      "Topic 7:\n",
      "inaugurated gathered historical prime loosely take see found article zealand licensed tribes mein egyptian human tithe skull spanish regular gathered audible\n",
      "Topic 8:\n",
      "rise wonders fabulous wonders fabulous servant division conclave human riven bee stalking adapted constable noted human fight myrren fight take introduced overall\n",
      "Topic 9:\n",
      "demonwars illustrator companions use adapted described explores much becoming aviary members pair twice arthurian demonwars demonwars bearer adaptation concluding harpist powerful\n"
     ]
    }
   ],
   "source": [
    "n = 10\n",
    "lda = LatentDirichletAllocation(n, random_state=42, learning_method='batch')\n",
    "\n",
    "\n",
    "lda.fit(tf_vector)\n",
    "lda_doc_topic = lda.transform(tf_vector) # returns array\n",
    "\n",
    "topic_list = display_topics(lda, vectorizer.get_feature_names(), no_top_words = 20)"
   ]
  },
  {
   "cell_type": "code",
   "execution_count": 30,
   "metadata": {},
   "outputs": [],
   "source": [
    "topic_names = ['Urban Fantasy',\n",
    "               'Quest',\n",
    "               'Role Playing',\n",
    "               'Epic Fantasy',\n",
    "               'Anime',\n",
    "               'Magical Realism',\n",
    "               'Adapted',\n",
    "               'Arthurian',\n",
    "               'Druid',\n",
    "               'Historical'\n",
    "              ]"
   ]
  },
  {
   "cell_type": "markdown",
   "metadata": {},
   "source": [
    "### Take Away:  LDA topics make more sense than NMF topics, initially and throughout numerous updates to stopwords. "
   ]
  },
  {
   "cell_type": "code",
   "execution_count": 52,
   "metadata": {},
   "outputs": [],
   "source": [
    "# pd.DataFrame(max_positions)[0].value_counts()"
   ]
  },
  {
   "cell_type": "markdown",
   "metadata": {},
   "source": [
    "### Clustering and Visualizations"
   ]
  },
  {
   "cell_type": "markdown",
   "metadata": {},
   "source": [
    "#### KMEANs\n",
    "Starting with KMeans clustering for completeness, but with high dimensionality think a more sophisticated clustering algorithm is needed."
   ]
  },
  {
   "cell_type": "code",
   "execution_count": 53,
   "metadata": {},
   "outputs": [
    {
     "data": {
      "text/plain": [
       "{0, 1, 2, 3, 4, 5, 6, 7, 8, 9}"
      ]
     },
     "execution_count": 53,
     "metadata": {},
     "output_type": "execute_result"
    }
   ],
   "source": [
    "from sklearn.cluster import KMeans\n",
    "import numpy as np\n",
    "kmeans = KMeans(n_clusters=10, random_state=0).fit(lda_doc_topic)\n",
    "set(kmeans.labels_)"
   ]
  },
  {
   "cell_type": "code",
   "execution_count": null,
   "metadata": {},
   "outputs": [],
   "source": [
    "kmeans.labels"
   ]
  },
  {
   "cell_type": "code",
   "execution_count": 54,
   "metadata": {},
   "outputs": [
    {
     "data": {
      "text/plain": [
       "0    621\n",
       "1    238\n",
       "3    210\n",
       "4    192\n",
       "5    191\n",
       "2    189\n",
       "6    168\n",
       "9    167\n",
       "7    161\n",
       "8    153\n",
       "Name: 0, dtype: int64"
      ]
     },
     "execution_count": 54,
     "metadata": {},
     "output_type": "execute_result"
    }
   ],
   "source": [
    "pd.DataFrame(kmeans.labels_)[0].value_counts()"
   ]
  },
  {
   "cell_type": "markdown",
   "metadata": {},
   "source": [
    "#### T-distributed Stochastic Neighbor Embedding (t-SNE) is a machine learning algorithm for visualization \n",
    "It is a nonlinear dimensionality reduction technique well-suited for embedding high-dimensional data for visualization in a low-dimensional space of two or three dimensions.  \n",
    "\n",
    "Stage 1:t-SNE constructs a probability distribution over pairs of high-dimensional objects in such a way that similar objects have a high probability of being picked while dissimilar points have an extremely small probability of being picked.  Based on Euclidian distance by default, but can be changed.\n",
    "Stage 2: t-SNE defines a similar probability distribution over the points in the low-dimensional map, and it minimizes the Kullback–Leibler divergence (KL divergence) between the two distributions with respect to the locations of the points in the map.\n",
    "\n",
    "https://en.wikipedia.org/wiki/T-distributed_stochastic_neighbor_embedding\n",
    "\n",
    " t-SNE stands for t-Distributed Stochastic Neighbor Embedding. It visualizes high-dimensional data by giving each datapoint a location in a two or three-dimensional map. It is a variation of Stochastic Neighbor Embedding (Hinton and Roweis, 2002) that allows optimization, and produces significantly better visualizations by reducing the tendency to lump points together in the center of the map that often renders the visualization ineffective and unreadable. t-SNE is good at creating a map that reveals structure and embedding relationships at many different scales. This is particularly important for high-dimensional inter-related data that lie on several different low-dimensional manifolds, such as images of objects from multiple classes seen from multiple viewpoints.   \n",
    " \n",
    " http://learningaboutdata.blogspot.com/2014/06/plotting-word-embedding-using-tsne-with.html\n",
    " \n",
    " https://distill.pub/2016/misread-tsne/ this article indicates that it is important that the perplexity s/b smaller than the number of points to work properly\n"
   ]
  },
  {
   "cell_type": "code",
   "execution_count": 31,
   "metadata": {},
   "outputs": [
    {
     "data": {
      "text/plain": [
       "(2290, 2)"
      ]
     },
     "execution_count": 31,
     "metadata": {},
     "output_type": "execute_result"
    }
   ],
   "source": [
    "#Note: using default perplexity of 30 which is related to # of nearest neighbors\n",
    "#default iterations 1,000\n",
    "#metric param is the distance used and the default is Euclidian\n",
    "import numpy as np\n",
    "from sklearn.manifold import TSNE\n",
    "X_embedded = TSNE(n_components=2, n_iter = 20000, perplexity = 50).fit_transform(lda_doc_topic)#complexity is default\n",
    "X_embedded.shape"
   ]
  },
  {
   "cell_type": "code",
   "execution_count": 32,
   "metadata": {},
   "outputs": [],
   "source": [
    "maximums = lda_doc_topic.max(axis=1)\n",
    "max_positions = []\n",
    "\n",
    "for i, val in enumerate(lda_doc_topic):\n",
    "    max_to_match = maximums[i]\n",
    "    for j, val2 in enumerate(val):\n",
    "        if val2==max_to_match:\n",
    "            max_positions.append(j)\n",
    "            break\n",
    "            \n",
    "text_topics = []\n",
    "for i in max_positions:\n",
    "    text_topics.append(topic_names[i])"
   ]
  },
  {
   "cell_type": "code",
   "execution_count": 43,
   "metadata": {},
   "outputs": [
    {
     "data": {
      "text/plain": [
       "['Urban Fantasy',\n",
       " 'Quest',\n",
       " 'Role Playing',\n",
       " 'Epic Fantasy',\n",
       " 'Anime',\n",
       " 'Magical Realism',\n",
       " 'Adapted',\n",
       " 'Arthurian',\n",
       " 'Druid',\n",
       " 'Historical']"
      ]
     },
     "execution_count": 43,
     "metadata": {},
     "output_type": "execute_result"
    }
   ],
   "source": [
    "topic_names"
   ]
  },
  {
   "cell_type": "code",
   "execution_count": 47,
   "metadata": {},
   "outputs": [],
   "source": [
    "#Mapping max positions to title\n",
    "\n",
    "\n",
    "label_df = pd.DataFrame.from_dict({'title':df['title'], 'positions': max_positions})\n",
    "\n",
    "label_df.columns = ['title', 'labels']\n",
    "\n",
    "label_df['genre'] = label_df['labels'].apply(lambda label:topic_names[label])\n",
    "\n",
    "by_genre_df = label_df.groupby(['genre', 'title']).first()"
   ]
  },
  {
   "cell_type": "code",
   "execution_count": 51,
   "metadata": {},
   "outputs": [
    {
     "data": {
      "text/html": [
       "<div>\n",
       "<style scoped>\n",
       "    .dataframe tbody tr th:only-of-type {\n",
       "        vertical-align: middle;\n",
       "    }\n",
       "\n",
       "    .dataframe tbody tr th {\n",
       "        vertical-align: top;\n",
       "    }\n",
       "\n",
       "    .dataframe thead th {\n",
       "        text-align: right;\n",
       "    }\n",
       "</style>\n",
       "<table border=\"1\" class=\"dataframe\">\n",
       "  <thead>\n",
       "    <tr style=\"text-align: right;\">\n",
       "      <th></th>\n",
       "      <th>labels</th>\n",
       "    </tr>\n",
       "    <tr>\n",
       "      <th>title</th>\n",
       "      <th></th>\n",
       "    </tr>\n",
       "  </thead>\n",
       "  <tbody>\n",
       "    <tr>\n",
       "      <th>A Barnstormer in Oz</th>\n",
       "      <td>5</td>\n",
       "    </tr>\n",
       "    <tr>\n",
       "      <th>A Hat Full of Sky</th>\n",
       "      <td>5</td>\n",
       "    </tr>\n",
       "    <tr>\n",
       "      <th>A Lion Among Men</th>\n",
       "      <td>5</td>\n",
       "    </tr>\n",
       "    <tr>\n",
       "      <th>A Man Has Dreams</th>\n",
       "      <td>5</td>\n",
       "    </tr>\n",
       "    <tr>\n",
       "      <th>A Midsummer Tempest</th>\n",
       "      <td>5</td>\n",
       "    </tr>\n",
       "    <tr>\n",
       "      <th>...</th>\n",
       "      <td>...</td>\n",
       "    </tr>\n",
       "    <tr>\n",
       "      <th>Wintersmith</th>\n",
       "      <td>5</td>\n",
       "    </tr>\n",
       "    <tr>\n",
       "      <th>Wizard at Large</th>\n",
       "      <td>5</td>\n",
       "    </tr>\n",
       "    <tr>\n",
       "      <th>Wizard of the Pigeons</th>\n",
       "      <td>5</td>\n",
       "    </tr>\n",
       "    <tr>\n",
       "      <th>World of Warcraft: Rise of the Horde</th>\n",
       "      <td>5</td>\n",
       "    </tr>\n",
       "    <tr>\n",
       "      <th>Ægypt</th>\n",
       "      <td>5</td>\n",
       "    </tr>\n",
       "  </tbody>\n",
       "</table>\n",
       "<p>240 rows × 1 columns</p>\n",
       "</div>"
      ],
      "text/plain": [
       "                                      labels\n",
       "title                                       \n",
       "A Barnstormer in Oz                        5\n",
       "A Hat Full of Sky                          5\n",
       "A Lion Among Men                           5\n",
       "A Man Has Dreams                           5\n",
       "A Midsummer Tempest                        5\n",
       "...                                      ...\n",
       "Wintersmith                                5\n",
       "Wizard at Large                            5\n",
       "Wizard of the Pigeons                      5\n",
       "World of Warcraft: Rise of the Horde       5\n",
       "Ægypt                                      5\n",
       "\n",
       "[240 rows x 1 columns]"
      ]
     },
     "execution_count": 51,
     "metadata": {},
     "output_type": "execute_result"
    }
   ],
   "source": [
    "by_genre_df.loc['Magical Realism']"
   ]
  },
  {
   "cell_type": "code",
   "execution_count": 111,
   "metadata": {
    "scrolled": false
   },
   "outputs": [
    {
     "data": {
      "image/png": "[encoded data removed]",
      "text/plain": [
       "<Figure size 1080x1080 with 1 Axes>"
      ]
     },
     "metadata": {
      "needs_background": "light"
     },
     "output_type": "display_data"
    }
   ],
   "source": [
    "# Topic clusters (max topic loading)\n",
    "plt.subplots(figsize=(15,15))\n",
    "# plt.scatter(X_embedded[:,0], X_embedded[:,1],\n",
    "#             c=max_positions,\n",
    "#             #c=np.array(max_positions)/max(max_positions),\n",
    "#             alpha=0.2, cmap=plt.cm.hsv, label=text_topics)\n",
    "\n",
    "target_ids = range(len(topic_names))\n",
    "colors = 'r', 'g', 'b', 'c', 'm', 'y', 'k', 'orange', 'pink', 'brown'\n",
    "for i, c, label in zip(target_ids, colors, topic_names):\n",
    "    plt.scatter(X_embedded[np.array(max_positions)==i,0],\n",
    "                X_embedded[np.array(max_positions)==i,1],\n",
    "                c=c, label=label)\n",
    "\n",
    "plt.title('TSNE Plot of Book Topics', fontsize = 30)\n",
    "plt.xlabel('pc2', fontsize = 20)\n",
    "plt.ylabel('pc1', rotation = 0, fontsize = 20)\n",
    "plt.legend(loc='lower right', fontsize = 15)\n",
    "plt.show()"
   ]
  },
  {
   "cell_type": "code",
   "execution_count": 60,
   "metadata": {},
   "outputs": [
    {
     "data": {
      "text/html": [
       "<div>\n",
       "<style scoped>\n",
       "    .dataframe tbody tr th:only-of-type {\n",
       "        vertical-align: middle;\n",
       "    }\n",
       "\n",
       "    .dataframe tbody tr th {\n",
       "        vertical-align: top;\n",
       "    }\n",
       "\n",
       "    .dataframe thead th {\n",
       "        text-align: right;\n",
       "    }\n",
       "</style>\n",
       "<table border=\"1\" class=\"dataframe\">\n",
       "  <thead>\n",
       "    <tr style=\"text-align: right;\">\n",
       "      <th></th>\n",
       "      <th>best_topic</th>\n",
       "    </tr>\n",
       "    <tr>\n",
       "      <th>title</th>\n",
       "      <th></th>\n",
       "    </tr>\n",
       "  </thead>\n",
       "  <tbody>\n",
       "    <tr>\n",
       "      <th>A Wizard of Earthsea</th>\n",
       "      <td>5</td>\n",
       "    </tr>\n",
       "    <tr>\n",
       "      <th>Carmilla</th>\n",
       "      <td>0</td>\n",
       "    </tr>\n",
       "    <tr>\n",
       "      <th>Don Quixote</th>\n",
       "      <td>5</td>\n",
       "    </tr>\n",
       "    <tr>\n",
       "      <th>Erewhon</th>\n",
       "      <td>1</td>\n",
       "    </tr>\n",
       "    <tr>\n",
       "      <th>Farmer Giles of Ham</th>\n",
       "      <td>7</td>\n",
       "    </tr>\n",
       "    <tr>\n",
       "      <th>...</th>\n",
       "      <td>...</td>\n",
       "    </tr>\n",
       "    <tr>\n",
       "      <th>The Barbarian of World's End</th>\n",
       "      <td>5</td>\n",
       "    </tr>\n",
       "    <tr>\n",
       "      <th>The Pirate of World's End</th>\n",
       "      <td>5</td>\n",
       "    </tr>\n",
       "    <tr>\n",
       "      <th>Wrath of Empire</th>\n",
       "      <td>1</td>\n",
       "    </tr>\n",
       "    <tr>\n",
       "      <th>Blood of Empire</th>\n",
       "      <td>1</td>\n",
       "    </tr>\n",
       "    <tr>\n",
       "      <th>The Light Ages</th>\n",
       "      <td>6</td>\n",
       "    </tr>\n",
       "  </tbody>\n",
       "</table>\n",
       "<p>2290 rows × 1 columns</p>\n",
       "</div>"
      ],
      "text/plain": [
       "                              best_topic\n",
       "title                                   \n",
       "A Wizard of Earthsea                   5\n",
       "Carmilla                               0\n",
       "Don Quixote                            5\n",
       "Erewhon                                1\n",
       "Farmer Giles of Ham                    7\n",
       "...                                  ...\n",
       "The Barbarian of World's End           5\n",
       "The Pirate of World's End              5\n",
       "Wrath of Empire                        1\n",
       "Blood of Empire                        1\n",
       "The Light Ages                         6\n",
       "\n",
       "[2290 rows x 1 columns]"
      ]
     },
     "execution_count": 60,
     "metadata": {},
     "output_type": "execute_result"
    }
   ],
   "source": [
    "best_topic_df = pd.DataFrame(max_positions, index=df['title'])\n",
    "best_topic_df.columns = ['best_topic']\n",
    "best_topic_df\n",
    "#max_positions"
   ]
  },
  {
   "cell_type": "code",
   "execution_count": 61,
   "metadata": {},
   "outputs": [
    {
     "data": {
      "text/html": [
       "<div>\n",
       "<style scoped>\n",
       "    .dataframe tbody tr th:only-of-type {\n",
       "        vertical-align: middle;\n",
       "    }\n",
       "\n",
       "    .dataframe tbody tr th {\n",
       "        vertical-align: top;\n",
       "    }\n",
       "\n",
       "    .dataframe thead th {\n",
       "        text-align: right;\n",
       "    }\n",
       "</style>\n",
       "<table border=\"1\" class=\"dataframe\">\n",
       "  <thead>\n",
       "    <tr style=\"text-align: right;\">\n",
       "      <th></th>\n",
       "      <th>cluster_label</th>\n",
       "    </tr>\n",
       "    <tr>\n",
       "      <th>title</th>\n",
       "      <th></th>\n",
       "    </tr>\n",
       "  </thead>\n",
       "  <tbody>\n",
       "    <tr>\n",
       "      <th>A Wizard of Earthsea</th>\n",
       "      <td>1</td>\n",
       "    </tr>\n",
       "    <tr>\n",
       "      <th>Carmilla</th>\n",
       "      <td>9</td>\n",
       "    </tr>\n",
       "    <tr>\n",
       "      <th>Don Quixote</th>\n",
       "      <td>1</td>\n",
       "    </tr>\n",
       "    <tr>\n",
       "      <th>Erewhon</th>\n",
       "      <td>4</td>\n",
       "    </tr>\n",
       "    <tr>\n",
       "      <th>Farmer Giles of Ham</th>\n",
       "      <td>6</td>\n",
       "    </tr>\n",
       "    <tr>\n",
       "      <th>...</th>\n",
       "      <td>...</td>\n",
       "    </tr>\n",
       "    <tr>\n",
       "      <th>The Barbarian of World's End</th>\n",
       "      <td>1</td>\n",
       "    </tr>\n",
       "    <tr>\n",
       "      <th>The Pirate of World's End</th>\n",
       "      <td>1</td>\n",
       "    </tr>\n",
       "    <tr>\n",
       "      <th>Wrath of Empire</th>\n",
       "      <td>4</td>\n",
       "    </tr>\n",
       "    <tr>\n",
       "      <th>Blood of Empire</th>\n",
       "      <td>4</td>\n",
       "    </tr>\n",
       "    <tr>\n",
       "      <th>The Light Ages</th>\n",
       "      <td>5</td>\n",
       "    </tr>\n",
       "  </tbody>\n",
       "</table>\n",
       "<p>2290 rows × 1 columns</p>\n",
       "</div>"
      ],
      "text/plain": [
       "                              cluster_label\n",
       "title                                      \n",
       "A Wizard of Earthsea                      1\n",
       "Carmilla                                  9\n",
       "Don Quixote                               1\n",
       "Erewhon                                   4\n",
       "Farmer Giles of Ham                       6\n",
       "...                                     ...\n",
       "The Barbarian of World's End              1\n",
       "The Pirate of World's End                 1\n",
       "Wrath of Empire                           4\n",
       "Blood of Empire                           4\n",
       "The Light Ages                            5\n",
       "\n",
       "[2290 rows x 1 columns]"
      ]
     },
     "execution_count": 61,
     "metadata": {},
     "output_type": "execute_result"
    }
   ],
   "source": [
    "kmeans_df = pd.DataFrame(kmeans.labels_, index=df['title'])\n",
    "kmeans_df.columns = ['cluster_label']\n",
    "kmeans_df"
   ]
  },
  {
   "cell_type": "code",
   "execution_count": 62,
   "metadata": {},
   "outputs": [],
   "source": [
    "# Save the model as a pickled file for visualization later (another notebook) \n",
    "with open(f'../data/lda_novel_{n}_topics_non_series.pkl','wb') as fout:\n",
    "    pickle.dump(lda, fout)\n",
    "with open(f'../data/doc_lda_novel_{n}_topics_non_series.pkl','wb') as fout:\n",
    "    pickle.dump(lda_doc_topic, fout)"
   ]
  },
  {
   "cell_type": "code",
   "execution_count": 63,
   "metadata": {},
   "outputs": [],
   "source": [
    "# Save the model as a pickled file for visualization later (another notebook) \n",
    "with open(f'../data/nmf_novel_{n}_topics_non_series.pkl','wb') as fout:\n",
    "    pickle.dump(nmf, fout)\n",
    "with open(f'../data/doc_nmf_novel_{n}_topics_non_series.pkl','wb') as fout:\n",
    "    pickle.dump(nmf_doc_topic, fout)"
   ]
  },
  {
   "cell_type": "markdown",
   "metadata": {},
   "source": [
    "### Determining the Appropriate Number of Clusters"
   ]
  },
  {
   "cell_type": "code",
   "execution_count": 68,
   "metadata": {},
   "outputs": [
    {
     "data": {
      "image/png": "[encoded data removed]",
      "text/plain": [
       "<Figure size 576x360 with 1 Axes>"
      ]
     },
     "metadata": {
      "needs_background": "light"
     },
     "output_type": "display_data"
    }
   ],
   "source": [
    "# SVD to justify number of topics\n",
    "\n",
    "from sklearn.decomposition import TruncatedSVD\n",
    "from sklearn.feature_extraction.text import TfidfTransformer\n",
    "\n",
    "# Count vectorize and get TF and TF_IDF vectors\n",
    "cv=CountVectorizer(max_df=0.80)\n",
    "tf_vector=cv.fit_transform(sentences_tokens)\n",
    "tfidf_transformer=TfidfTransformer(smooth_idf=True,use_idf=True)\n",
    "tf_idf_vector = tfidf_transformer.fit_transform(tf_vector)\n",
    "\n",
    "svd = TruncatedSVD(n_components=20, n_iter=10, random_state=25)\n",
    "svd.fit(tf_vector)\n",
    "plt.subplots(figsize=(8,5))\n",
    "plt.plot(np.append(np.array([0]), np.cumsum(svd.explained_variance_ratio_)))\n",
    "plt.title('Cumulative Variance Explained by SVD Components')\n",
    "plt.xlabel('Number of Components')\n",
    "plt.ylabel('Percent Variance Explained')\n",
    "plt.show()"
   ]
  },
  {
   "cell_type": "code",
   "execution_count": 69,
   "metadata": {},
   "outputs": [
    {
     "data": {
      "image/png": "[encoded data removed]",
      "text/plain": [
       "<Figure size 576x360 with 1 Axes>"
      ]
     },
     "metadata": {
      "needs_background": "light"
     },
     "output_type": "display_data"
    }
   ],
   "source": [
    "plt.subplots(figsize=(8,5))\n",
    "plt.plot(svd.explained_variance_/100)\n",
    "plt.title('Variance Explained by SVD Components')\n",
    "plt.xlabel('Number of Components')\n",
    "plt.ylabel('Percent Variance Explained')\n",
    "plt.show()"
   ]
  },
  {
   "cell_type": "markdown",
   "metadata": {},
   "source": [
    "### Before working on the Recommendation Engine, I want a brief refresh on bias and variance tradeoff.\n",
    "\n",
    "https://medium.com/30-days-of-machine-learning/day-3-k-nearest-neighbors-and-bias-variance-tradeoff-75f84d515bdb\n",
    "\n",
    "[B]ias is an error from erroneous assumptions in the learning algorithm. High bias can cause an algorithm to miss the relevant relations between features and target outputs. In other words, model with high bias pays very little attention to the training data and oversimplifies the model.  \n",
    "\n",
    "[V]ariance is an error from sensitivity to small fluctuations in the training set. High variance can cause an algorithm to model the random noise in the training data, rather than the intended outputs. In other words, model \n",
    "with high variance pays a lot of attention to training data and does not generalize on the data which it hasn’t seen before.  \n",
    "Bias is the difference between the true label and our prediction,  \n",
    "and variance is defined in Statistics, the expectation of the squared deviation of a random variable from its mean."
   ]
  },
  {
   "cell_type": "markdown",
   "metadata": {},
   "source": [
    "### The Recommendation Engine\n",
    "\n",
    "Two ways to find the most similar topics to the user's input.Euclidian distance or Cosine similarity.  \n",
    "\n",
    "In general Euclidian Distance tends towards low bias and high variance while Cosine Similarity tends \n",
    "towards high bias / low variance.  \n",
    "\n",
    "Below is a recommendation model based on each metric. \n",
    "\n",
    "\n",
    "Have chosen Euclidian distance to because the amount that the books load on each topic matters which is expressed Euclidian distance.\n",
    "That magnitude is lost in the cosine similarity metric, so not preferable for this particular application.\n",
    "\n",
    "Will ask the user to take a snoippet of  Wikipedia text from a favorite book and enter into app"
   ]
  },
  {
   "cell_type": "markdown",
   "metadata": {},
   "source": [
    "### NEXT STEP: TURN USER INPUT TO VECTOR "
   ]
  },
  {
   "cell_type": "code",
   "execution_count": 64,
   "metadata": {},
   "outputs": [
    {
     "data": {
      "text/plain": [
       "(10, 4442)"
      ]
     },
     "execution_count": 64,
     "metadata": {},
     "output_type": "execute_result"
    }
   ],
   "source": [
    "nmf.components_.shape  # Rgiht Matrix"
   ]
  },
  {
   "cell_type": "code",
   "execution_count": 65,
   "metadata": {},
   "outputs": [],
   "source": [
    "#This will be fed to the model as user input.  Must be enetered as a string\n",
    "user_input = \"second book in the eight-volume Deltora Quest series written by Emily Rodda.\\\n",
    "It continues the trio's journey to find the seven missing gems of Deltora, braving dangers \\\n",
    "and guardians in each book.\"\n",
    "#user_input = 'magic sorcery wizard is spellbinding story of epic proportions spanning decades in time travel'\n",
    "#user_input = 'in stark contrast to most other retellings of the Arthurian tales, which consistently cast Morgan \n",
    "#le Fay as a distant, one-dimensional evil sorceress, with little or no explanation given for her antagonism \n",
    "#to the Round Table. In this case, Morgaine is presented as a woman with unique gifts and responsibilities at a \n",
    "#time of enormous political and spiritual upheaval who is called upon to defend her indigenous heritage against \n",
    "#impossible odds. '"
   ]
  },
  {
   "cell_type": "code",
   "execution_count": 66,
   "metadata": {},
   "outputs": [],
   "source": [
    "'''Must vectorize the user input using same vectorizer that was fit on summaries to transform the use input\n",
    "The user input should contain some words that have been seen before by the vectorizer.  It is formally known\n",
    "the vocabulary of the vectorizer.  Otherwise if it comes across a word it hasnt seen before, that word is ignored\n",
    "The longer the string is the higher the proba the count vecorizer has seen the word before'''\n",
    "vectorize_user_input = vectorizer.transform([user_input])"
   ]
  },
  {
   "cell_type": "code",
   "execution_count": 67,
   "metadata": {},
   "outputs": [],
   "source": [
    "'''Now that we have the vector from the vecorizer, we now need to transform it w/ the model, in this case lda.\n",
    "We are essentially applying dim redcu on the user input so that it maps to the known topics.\n",
    "'''\n",
    "lda_user_input = lda.transform(vectorize_user_input)"
   ]
  },
  {
   "cell_type": "code",
   "execution_count": 70,
   "metadata": {},
   "outputs": [],
   "source": [
    "from sklearn.preprocessing import MinMaxScaler"
   ]
  },
  {
   "cell_type": "code",
   "execution_count": 71,
   "metadata": {},
   "outputs": [],
   "source": [
    "#Index at 1 to avoid returning the exact same book and ad 1 to return 5 options\n",
    "def get_recommendations(user_input, doc_topic, num_books):\n",
    "    '''Function to return book recommendations based on Euclidean Distance metric.'''\n",
    "    scaler = MinMaxScaler()\n",
    "    doc_topic = scaler.fit_transform(doc_topic)\n",
    "    vectorize_user_input = vectorizer.transform([user_input])\n",
    "    lda_user_input = lda.transform(vectorize_user_input)\n",
    "    lda_user_input = scaler.transform(lda_user_input)\n",
    "    squared_delta = np.sqrt((lda_user_input - doc_topic)**2).sum(axis=1)\n",
    "    return df.loc[squared_delta.argsort()[1:num_books+1]]"
   ]
  },
  {
   "cell_type": "code",
   "execution_count": 72,
   "metadata": {},
   "outputs": [
    {
     "data": {
      "text/html": [
       "<div>\n",
       "<style scoped>\n",
       "    .dataframe tbody tr th:only-of-type {\n",
       "        vertical-align: middle;\n",
       "    }\n",
       "\n",
       "    .dataframe tbody tr th {\n",
       "        vertical-align: top;\n",
       "    }\n",
       "\n",
       "    .dataframe thead th {\n",
       "        text-align: right;\n",
       "    }\n",
       "</style>\n",
       "<table border=\"1\" class=\"dataframe\">\n",
       "  <thead>\n",
       "    <tr style=\"text-align: right;\">\n",
       "      <th></th>\n",
       "      <th>title</th>\n",
       "      <th>summary</th>\n",
       "    </tr>\n",
       "  </thead>\n",
       "  <tbody>\n",
       "    <tr>\n",
       "      <th>645</th>\n",
       "      <td>Image (Angel novel)</td>\n",
       "      <td>Image is an original novel based on the U.S. t...</td>\n",
       "    </tr>\n",
       "    <tr>\n",
       "      <th>1942</th>\n",
       "      <td>Conan of the Red Brotherhood</td>\n",
       "      <td>Conan of the Red Brotherhood is a fantasy nove...</td>\n",
       "    </tr>\n",
       "    <tr>\n",
       "      <th>995</th>\n",
       "      <td>Fledgling (novel)</td>\n",
       "      <td>Fledgling is a science fiction vampire novel b...</td>\n",
       "    </tr>\n",
       "    <tr>\n",
       "      <th>647</th>\n",
       "      <td>Stranger to the Sun</td>\n",
       "      <td>Stranger to the Sun is an original novel based...</td>\n",
       "    </tr>\n",
       "    <tr>\n",
       "      <th>648</th>\n",
       "      <td>Vengeance (novel)</td>\n",
       "      <td>Vengeance is an original novel based on the U....</td>\n",
       "    </tr>\n",
       "  </tbody>\n",
       "</table>\n",
       "</div>"
      ],
      "text/plain": [
       "                             title  \\\n",
       "645            Image (Angel novel)   \n",
       "1942  Conan of the Red Brotherhood   \n",
       "995              Fledgling (novel)   \n",
       "647            Stranger to the Sun   \n",
       "648              Vengeance (novel)   \n",
       "\n",
       "                                                summary  \n",
       "645   Image is an original novel based on the U.S. t...  \n",
       "1942  Conan of the Red Brotherhood is a fantasy nove...  \n",
       "995   Fledgling is a science fiction vampire novel b...  \n",
       "647   Stranger to the Sun is an original novel based...  \n",
       "648   Vengeance is an original novel based on the U....  "
      ]
     },
     "execution_count": 72,
     "metadata": {},
     "output_type": "execute_result"
    }
   ],
   "source": [
    "user_input = 'Harry Potter and the Sorcer Stone'\n",
    "'''\n",
    "\"The Lord of the Rings is an epic[1] high-fantasy novel written by English author \\\n",
    "and scholar J. R. R. Tolkien. The story began as a sequel to Tolkien's 1937 fantasy novel The Hobbit, \\\n",
    "but eventually developed into a much larger work. Written in stages between 1937 and 1949, \\\n",
    "The Lord of the Rings is one of the best-selling novels ever written, with over 150 million copies sold. \\\n",
    "The title of the novel refers to the story's main antagonist, the Dark Lord Sauron,[a] \\\n",
    "who had in an earlier age created the One Ring to rule the other Rings of Power as the ultimate weapon\\\n",
    "in his campaign to conquer and rule all of Middle-earth. From quiet beginnings in the Shire, a hobbit \\\n",
    "land not unlike the English countryside, the story ranges across Middle-earth, following the course of \\\n",
    "the War of the Ring through the eyes of its characters, most notably the hobbits Frodo, Sam, Merry and Pippin.\"\n",
    "'''\n",
    "\n",
    "get_recommendations(user_input, lda_doc_topic, 5)"
   ]
  },
  {
   "cell_type": "code",
   "execution_count": 73,
   "metadata": {},
   "outputs": [
    {
     "name": "stdout",
     "output_type": "stream",
     "text": [
      "Harry Potter and the Sorcer Stone\n"
     ]
    },
    {
     "data": {
      "text/html": [
       "<div>\n",
       "<style scoped>\n",
       "    .dataframe tbody tr th:only-of-type {\n",
       "        vertical-align: middle;\n",
       "    }\n",
       "\n",
       "    .dataframe tbody tr th {\n",
       "        vertical-align: top;\n",
       "    }\n",
       "\n",
       "    .dataframe thead th {\n",
       "        text-align: right;\n",
       "    }\n",
       "</style>\n",
       "<table border=\"1\" class=\"dataframe\">\n",
       "  <thead>\n",
       "    <tr style=\"text-align: right;\">\n",
       "      <th></th>\n",
       "      <th>title</th>\n",
       "      <th>summary</th>\n",
       "    </tr>\n",
       "  </thead>\n",
       "  <tbody>\n",
       "    <tr>\n",
       "      <th>9</th>\n",
       "      <td>The Picture of Dorian Gray</td>\n",
       "      <td>The Picture of Dorian Gray is a Gothic and phi...</td>\n",
       "    </tr>\n",
       "    <tr>\n",
       "      <th>12</th>\n",
       "      <td>His Dark Materials</td>\n",
       "      <td>His Dark Materials is a trilogy of fantasy nov...</td>\n",
       "    </tr>\n",
       "    <tr>\n",
       "      <th>13</th>\n",
       "      <td>The Eye of the World</td>\n",
       "      <td>The Eye of the World is a fantasy novel by Ame...</td>\n",
       "    </tr>\n",
       "    <tr>\n",
       "      <th>19</th>\n",
       "      <td>Harry Potter and the Philosopher's Stone</td>\n",
       "      <td>Harry Potter and the Philosopher's Stone is a ...</td>\n",
       "    </tr>\n",
       "    <tr>\n",
       "      <th>20</th>\n",
       "      <td>Dirk Gently's Holistic Detective Agency</td>\n",
       "      <td>Dirk Gently's Holistic Detective Agency is a h...</td>\n",
       "    </tr>\n",
       "  </tbody>\n",
       "</table>\n",
       "</div>"
      ],
      "text/plain": [
       "                                       title  \\\n",
       "9                 The Picture of Dorian Gray   \n",
       "12                        His Dark Materials   \n",
       "13                      The Eye of the World   \n",
       "19  Harry Potter and the Philosopher's Stone   \n",
       "20   Dirk Gently's Holistic Detective Agency   \n",
       "\n",
       "                                              summary  \n",
       "9   The Picture of Dorian Gray is a Gothic and phi...  \n",
       "12  His Dark Materials is a trilogy of fantasy nov...  \n",
       "13  The Eye of the World is a fantasy novel by Ame...  \n",
       "19  Harry Potter and the Philosopher's Stone is a ...  \n",
       "20  Dirk Gently's Holistic Detective Agency is a h...  "
      ]
     },
     "execution_count": 73,
     "metadata": {},
     "output_type": "execute_result"
    }
   ],
   "source": [
    "def get_recommends(user_input, doc_topic, num_recom=3):\n",
    "    '''Function to return book recommendations based on Cosine Similarity metric.\n",
    "    \n",
    "    1. User input as a string of words the vectorizer has transformed by the vectorizer and the model.\n",
    "    2.  Take the user input as vector; take the doc_topic matix, slice into it using the index, and compare the \n",
    "    value at that index, in this case is referred to as item, and compare those.  The way to get the cpmarison \n",
    "    is to take the dot product of the two vectors. Recall that this will return a score between 0 and 1 with 0 \n",
    "    meaning not sharing any info and 1 meaning the same.\n",
    "    3. Store the item, i.e.row number, and score as list of tuples in the sorted recs list\n",
    "    4.  return s slice into final_rec based on the number of records specified in the num_rec parameter\n",
    "    '''\n",
    "    print(user_input)\n",
    "    vectorize_user_input = vectorizer.transform([user_input])\n",
    "    lda_user_input = lda.transform(vectorize_user_input)\n",
    "    recs = []\n",
    "    for item in range(doc_topic.shape[0]):\n",
    "        recs.append([item,np.dot(np.array(lda_user_input),doc_topic[item])])#returns a tuple\n",
    "    final_rec = [i[0] for i in sorted(recs,key=lambda x: x[1],reverse=True)]\n",
    "    #return final_rec[:num_recom]\n",
    "    return df.loc[final_rec[1:num_recom+1]]\n",
    "\n",
    "get_recommends(user_input,lda_doc_topic,num_recom=5)\n",
    "#print(recommendations)\n",
    "\n",
    "\n",
    "#df.loc[recommendations, ['title', 'summary']].values"
   ]
  },
  {
   "cell_type": "markdown",
   "metadata": {},
   "source": [
    "'''Note when calling the fucntion, using the entire original df, passing in the recommendations list\n",
    "of indices identified by the get_recommendations function ands getting the title and summary.'''"
   ]
  },
  {
   "cell_type": "markdown",
   "metadata": {},
   "source": [
    "### Future work:\n",
    "\n",
    "Apply Vader for sentiment analysis\n",
    "Use NER to exclude user inputed title\n",
    "Refine FLASK application\n"
   ]
  }
 ],
 "metadata": {
  "kernelspec": {
   "display_name": "Python [conda env:metis] *",
   "language": "python",
   "name": "conda-env-metis-py"
  },
  "language_info": {
   "codemirror_mode": {
    "name": "ipython",
    "version": 3
   },
   "file_extension": ".py",
   "mimetype": "text/x-python",
   "name": "python",
   "nbconvert_exporter": "python",
   "pygments_lexer": "ipython3",
   "version": "3.7.4"
  }
 },
 "nbformat": 4,
 "nbformat_minor": 4
}
